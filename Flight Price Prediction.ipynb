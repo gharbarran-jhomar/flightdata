{
 "cells": [
  {
   "cell_type": "markdown",
   "metadata": {},
   "source": [
    "# Final Project\n",
    "## Author: Aditya Shah, Aryan Chaudhary, Jhomar Gharbarran, Rehan Nasir\n",
    "\n",
    "** Source to original dataset: https://www.kaggle.com/datasets/shubhambathwal/flight-price-prediction/data\n",
    "\n"
   ]
  },
  {
   "cell_type": "code",
   "execution_count": null,
   "metadata": {},
   "outputs": [],
   "source": []
  }
 ],
 "metadata": {
  "kernelspec": {
   "display_name": "base",
   "language": "python",
   "name": "python3"
  },
  "language_info": {
   "name": "python",
   "version": "3.11.7"
  }
 },
 "nbformat": 4,
 "nbformat_minor": 2
}
