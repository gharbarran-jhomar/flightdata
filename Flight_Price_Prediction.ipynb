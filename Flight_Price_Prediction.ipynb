{
  "cells": [
    {
      "cell_type": "markdown",
      "metadata": {
        "id": "VehcgUpSPvPM"
      },
      "source": [
        "# Final Project\n",
        "## Author: Aditya Shah, Aryan Chaudhary, Jhomar Gharbarran, Rehan Nasir\n",
        "\n",
        "**Source to original dataset: https://www.kaggle.com/datasets/shubhambathwal/flight-price-prediction/data**\n",
        "\n",
        "**Modified dataset: https://raw.githubusercontent.com/gharbarran-jhomar/flightdata/main/data/Clean_Dataset.csv**\n",
        "\n"
      ]
    },
    {
      "cell_type": "markdown",
      "source": [
        "# Flight Prediction Dataset Description\n",
        "**Features for the dataset:**\n",
        "1. airline - airline company (nominal: \"Air_India\", \"AirAsia\", \"GO_FIRST\", \"Indigo\", \"SpiceJet\", or \"Vistara\")\n",
        "2. flight - flight code (nominal: \"SG-8709\", \"I5-764\", ...)\n",
        "3. source_city - take off city (nominal: \"Bangalore\", \"Chennai\", \"Delhi\", \"Hyderabad\", \"Kolkata\", or \"Mumbai\")\n",
        "4. departure_time - flight's departure time (nominal: \"Early_Morning\", \"Morning\", \"Afternoon\", \"Evening\", \"Night\" or \"Late_Night\")\n",
        "5. stops - flight's layovers (nominal: \"zero\", \"one\", \"two_or_more\")\n",
        "6. arrival_time - flight's arrival time (nominal: \"Early_Morning\", \"Morning\", \"Afternoon\", \"Evening\", \"Night\" or \"Late_Night\")\n",
        "7. destination_city - landing city (nominal: \"Bangalore\", \"Chennai\", \"Delhi\", \"Hyderabad\", \"Kolkata\", or \"Mumbai\")\n",
        "8. class - seat class (binary: \"Economy\" or \"Business\")\n",
        "9. duration - flight's duration time (numeric: from 0.83 to 49.83 hours)\n",
        "10. days_left - days until trip from booking time (numeric: from 1 to 49 days)\n",
        "11. price - flight's price (numeric: from \\$1105 to \\$123071)\n",
        "\n"
      ],
      "metadata": {
        "id": "iIEX1yMSRsre"
      }
    },
    {
      "cell_type": "markdown",
      "source": [
        "# 1 - Look at the big picture\n",
        "Predictions will be used to inform the user when prices are the cheapest for a given flight.\n",
        "\n",
        "Framing the problem:\n",
        "- Supervised Learning\n",
        "- Regression Task (Predicting numerical data)\n",
        "- Batch Learning"
      ],
      "metadata": {
        "id": "UWXNT2aGRSug"
      }
    },
    {
      "cell_type": "code",
      "execution_count": 2,
      "metadata": {
        "id": "LgBo086nPvPN"
      },
      "outputs": [],
      "source": [
        "import sklearn\n",
        "import numpy as np\n",
        "import pandas as pd\n",
        "import matplotlib.pyplot as plt\n",
        "import seaborn as sns"
      ]
    },
    {
      "cell_type": "markdown",
      "source": [
        "# 2 - Loading the Data"
      ],
      "metadata": {
        "id": "53wr0mSxcAdl"
      }
    },
    {
      "cell_type": "code",
      "source": [
        "url = \"https://raw.githubusercontent.com/gharbarran-jhomar/flightdata/main/data/Clean_Dataset.csv\"\n",
        "flight_data = pd.read_csv(url, sep=',')"
      ],
      "metadata": {
        "id": "QcK9a6H_cFwz"
      },
      "execution_count": 3,
      "outputs": []
    }
  ],
  "metadata": {
    "kernelspec": {
      "display_name": "base",
      "language": "python",
      "name": "python3"
    },
    "language_info": {
      "name": "python",
      "version": "3.11.7"
    },
    "colab": {
      "provenance": []
    }
  },
  "nbformat": 4,
  "nbformat_minor": 0
}